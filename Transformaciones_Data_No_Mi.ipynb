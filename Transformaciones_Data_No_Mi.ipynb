{
  "nbformat": 4,
  "nbformat_minor": 0,
  "metadata": {
    "colab": {
      "provenance": []
    },
    "kernelspec": {
      "name": "python3",
      "display_name": "Python 3"
    },
    "language_info": {
      "name": "python"
    }
  },
  "cells": [
    {
      "cell_type": "markdown",
      "source": [
        "##Transformación de Fechas y horas"
      ],
      "metadata": {
        "id": "1pmu3mi6Dh0R"
      }
    },
    {
      "cell_type": "code",
      "source": [
        "#Importamos librerías\n",
        "from datetime import datetime, date, time, timedelta\n",
        "import datetime\n",
        "import pandas as pd\n",
        "import numpy as np"
      ],
      "metadata": {
        "id": "ul44qE9qDnGQ"
      },
      "execution_count": null,
      "outputs": []
    },
    {
      "cell_type": "code",
      "source": [
        "#AÑO\n",
        "ahora = datetime.datetime.now()\n",
        "print(\"La fecha y hora actual es: \", ahora)\n",
        "\n",
        "#Este año\n",
        "anio = ahora.year\n",
        "print(\"El año es: \", anio)\n",
        "\n",
        "#Año proximo\n",
        "año_proximo = anio + 1\n",
        "print(\"El año próximo es: \", año_proximo)"
      ],
      "metadata": {
        "id": "nepUFIbtGUBu",
        "colab": {
          "base_uri": "https://localhost:8080/"
        },
        "outputId": "8a5dc446-50b7-4644-84ae-253af71afe6c"
      },
      "execution_count": null,
      "outputs": [
        {
          "output_type": "stream",
          "name": "stdout",
          "text": [
            "La fecha y hora actual es:  2025-10-14 19:41:24.232090\n",
            "El año es:  2025\n",
            "El año próximo es:  2026\n"
          ]
        }
      ]
    },
    {
      "cell_type": "code",
      "source": [
        "#Mes\n",
        "\n",
        "#Mes actual\n",
        "mes_actual = ahora.month\n",
        "print(\"El mes actual es: \", mes_actual)\n",
        "\n",
        "#Mes próximo\n",
        "mes_proximo = mes_actual + 1\n",
        "print(\"El mes próximo es: \", mes_proximo)\n",
        "\n",
        "#Cambio el tipo de dato\n",
        "print(type(mes_proximo))\n",
        "print(type(str(mes_proximo)))"
      ],
      "metadata": {
        "id": "oo9D-S5JG3F7",
        "colab": {
          "base_uri": "https://localhost:8080/"
        },
        "outputId": "059a37be-d699-43ee-9e35-51ccd63c2ea9"
      },
      "execution_count": null,
      "outputs": [
        {
          "output_type": "stream",
          "name": "stdout",
          "text": [
            "El mes actual es:  10\n",
            "El mes próximo es:  11\n",
            "<class 'int'>\n",
            "<class 'str'>\n"
          ]
        }
      ]
    },
    {
      "cell_type": "code",
      "source": [
        "#DIA\n",
        "\n",
        "#Dia actual\n",
        "dia_actual = ahora.day\n",
        "print(\"El día actual es: \", dia_actual)\n",
        "\n",
        "#Dia próximo\n",
        "dia_proximo = dia_actual + 1\n",
        "print(\"El día próximo es: \", dia_proximo)"
      ],
      "metadata": {
        "id": "sO11Q6HtH4v0",
        "colab": {
          "base_uri": "https://localhost:8080/"
        },
        "outputId": "4d2fcc06-6f09-43fb-fadb-b5c6089b4463"
      },
      "execution_count": null,
      "outputs": [
        {
          "output_type": "stream",
          "name": "stdout",
          "text": [
            "El día actual es:  14\n",
            "El día próximo es:  15\n"
          ]
        }
      ]
    },
    {
      "cell_type": "code",
      "execution_count": null,
      "metadata": {
        "id": "6oFz-6IODYLW",
        "colab": {
          "base_uri": "https://localhost:8080/"
        },
        "outputId": "add9db80-2211-4666-be59-b411b61839da"
      },
      "outputs": [
        {
          "output_type": "stream",
          "name": "stdout",
          "text": [
            "La hora Greenwich Mean Time (GMT) es:  2025-10-14 19:41:30.402391\n",
            "La hora en Argentina es: 2025-10-14 16:41:30.402391\n"
          ]
        }
      ],
      "source": [
        "#HORA\n",
        "\n",
        "#Hora GMT\n",
        "ahora = datetime.datetime.now()\n",
        "print(\"La hora Greenwich Mean Time (GMT) es: \", ahora)\n",
        "\n",
        "#Hora Argentina (Le restamos 3 horas)\n",
        "hora_arg = ahora - timedelta(hours=3)\n",
        "print(\"La hora en Argentina es:\", hora_arg)\n"
      ]
    },
    {
      "cell_type": "code",
      "source": [
        "# Formatear la hora\n",
        "hora_formateada = ahora.strftime(\"%Y-%m-%d %H:%M:%S\")\n",
        "\n",
        "# Imprimir la hora formateada\n",
        "print(\"La hora actual es:\", hora_formateada)"
      ],
      "metadata": {
        "id": "rWMSLs3AFuPc",
        "colab": {
          "base_uri": "https://localhost:8080/"
        },
        "outputId": "d6279ce5-e4f1-490f-a32f-a75ac5f9a70b"
      },
      "execution_count": null,
      "outputs": [
        {
          "output_type": "stream",
          "name": "stdout",
          "text": [
            "La hora actual es: 2025-10-14 19:41:30\n"
          ]
        }
      ]
    },
    {
      "cell_type": "markdown",
      "source": [
        "##Transformación de Strings a enteros"
      ],
      "metadata": {
        "id": "qVAyoAIcJzQo"
      }
    },
    {
      "cell_type": "code",
      "source": [
        "#Cambio el tipo de dato, de string a enteros\n",
        "\n",
        "numero = \"15\"\n",
        "\n",
        "print(type(numero))\n",
        "\n",
        "print(f\"El numero ingresado es : {numero} y el tipo es:  {type(numero)} \")"
      ],
      "metadata": {
        "id": "XR6dWuCaJ38f",
        "colab": {
          "base_uri": "https://localhost:8080/"
        },
        "outputId": "d3b5b632-afd8-40ff-c4cd-4bbfc5883e02"
      },
      "execution_count": null,
      "outputs": [
        {
          "output_type": "stream",
          "name": "stdout",
          "text": [
            "<class 'str'>\n",
            "El numero ingresado es : 15 y el tipo es:  <class 'str'> \n"
          ]
        }
      ]
    },
    {
      "cell_type": "code",
      "source": [
        "#convertimos el dato de estring a enteros\n",
        "numero = int(numero)\n",
        "\n",
        "print(f\"El numero ingresado es : {numero} y el tipo es:  {type(numero)} \")\n"
      ],
      "metadata": {
        "id": "b7fzxXrSLLJn",
        "colab": {
          "base_uri": "https://localhost:8080/"
        },
        "outputId": "fb6952f2-84b2-4a55-b8d0-f4269d804495"
      },
      "execution_count": null,
      "outputs": [
        {
          "output_type": "stream",
          "name": "stdout",
          "text": [
            "El numero ingresado es : 15 y el tipo es:  <class 'int'> \n"
          ]
        }
      ]
    },
    {
      "cell_type": "markdown",
      "source": [
        "##Transformación de Strings a decimales"
      ],
      "metadata": {
        "id": "pDYWvtaPLv06"
      }
    },
    {
      "cell_type": "code",
      "source": [
        "#Cambio el tipo de dato, de string a enteros\n",
        "\n",
        "numero = \"10.1\"\n",
        "\n",
        "print(f\"El numero ingresado es : {numero} y el tipo es:  {type(numero)} \")"
      ],
      "metadata": {
        "id": "Yu3Hsd2bLx7R",
        "colab": {
          "base_uri": "https://localhost:8080/"
        },
        "outputId": "ff13b46f-22aa-4c26-d3a9-3a323a527d18"
      },
      "execution_count": null,
      "outputs": [
        {
          "output_type": "stream",
          "name": "stdout",
          "text": [
            "El numero ingresado es : 10.1 y el tipo es:  <class 'str'> \n"
          ]
        }
      ]
    },
    {
      "cell_type": "code",
      "source": [
        "#convertimos el dato de estring a enteros\n",
        "numero = float(numero)\n",
        "\n",
        "print(f\"El numero ingresado es : {numero} y el tipo es:  {type(numero)} \")"
      ],
      "metadata": {
        "id": "8LHxTxfZL8eY",
        "colab": {
          "base_uri": "https://localhost:8080/"
        },
        "outputId": "311ce410-f95f-464e-99f2-ca32b3c61a14"
      },
      "execution_count": null,
      "outputs": [
        {
          "output_type": "stream",
          "name": "stdout",
          "text": [
            "El numero ingresado es : 10.1 y el tipo es:  <class 'float'> \n"
          ]
        }
      ]
    },
    {
      "cell_type": "markdown",
      "source": [
        "##Transformación, join de datasets"
      ],
      "metadata": {
        "id": "6pCfMK9KMa1h"
      }
    },
    {
      "cell_type": "code",
      "source": [
        "\n",
        "# Notas de Matemática y Lengua\n",
        "df1 = pd.DataFrame({'Alumno': ['Alumno0', 'Alumno1', 'Alumno2'],\n",
        "                    'Matermática': ['5', '6', '7'],\n",
        "                    'Lengua': ['7', '7', '8']\n",
        "                    })\n",
        "\n",
        "# Notas de Historia y Geografía\n",
        "df2 = pd.DataFrame({'Alumno': ['Alumno0', 'Alumno2', 'Alumno3'],\n",
        "                    'Historia': ['4', '5', '4'],\n",
        "                    'Geografía': ['6', '7', '9']\n",
        "                    })\n",
        "\n",
        "# Mostramos los dataframes\n",
        "print(df1)\n",
        "print('           ')\n",
        "print(df2)\n",
        "\n"
      ],
      "metadata": {
        "id": "NfT7OdDtNg0d",
        "colab": {
          "base_uri": "https://localhost:8080/"
        },
        "outputId": "a0794021-b69a-4aaf-9748-9198d23720c4"
      },
      "execution_count": null,
      "outputs": [
        {
          "output_type": "stream",
          "name": "stdout",
          "text": [
            "    Alumno Matermática Lengua\n",
            "0  Alumno0           5      7\n",
            "1  Alumno1           6      7\n",
            "2  Alumno2           7      8\n",
            "           \n",
            "    Alumno Historia Geografía\n",
            "0  Alumno0        4         6\n",
            "1  Alumno2        5         7\n",
            "2  Alumno3        4         9\n"
          ]
        }
      ]
    },
    {
      "cell_type": "code",
      "source": [
        "# Hacemos join de los dataframes y mostramos las notas\n",
        "\n",
        "merged_df = pd.merge(df1, df2, on='Alumno', how='right')\n",
        "print(merged_df)"
      ],
      "metadata": {
        "id": "5u_k4tr0SCgp",
        "colab": {
          "base_uri": "https://localhost:8080/"
        },
        "outputId": "0bfacd9d-6149-430e-f3e3-33a112f62e75"
      },
      "execution_count": null,
      "outputs": [
        {
          "output_type": "stream",
          "name": "stdout",
          "text": [
            "    Alumno Matermática Lengua Historia Geografía\n",
            "0  Alumno0           5      7        4         6\n",
            "1  Alumno2           7      8        5         7\n",
            "2  Alumno3         NaN    NaN        4         9\n"
          ]
        }
      ]
    },
    {
      "cell_type": "markdown",
      "source": [
        "##Substitución de datos faltante por un tipo de dato default"
      ],
      "metadata": {
        "id": "Rv1PhlReXRaZ"
      }
    },
    {
      "cell_type": "code",
      "source": [
        "#Reemplazamos nulos por ceros\n",
        "\n",
        "# Creando un DataFrame\n",
        "df = pd.DataFrame({'columna1': [1, 2, None, 4],\n",
        "                   'columna2': [5, None, None, 8]})\n",
        "\n",
        "print(df)\n"
      ],
      "metadata": {
        "id": "v68zUZ3yXVyL",
        "colab": {
          "base_uri": "https://localhost:8080/"
        },
        "outputId": "9b793ee5-d227-4dd4-9cfd-8110446c0674"
      },
      "execution_count": null,
      "outputs": [
        {
          "output_type": "stream",
          "name": "stdout",
          "text": [
            "   columna1  columna2\n",
            "0       1.0       5.0\n",
            "1       2.0       NaN\n",
            "2       NaN       NaN\n",
            "3       4.0       8.0\n"
          ]
        }
      ]
    },
    {
      "cell_type": "code",
      "source": [
        "# Rellenando los valores nulos con 0\n",
        "\n",
        "df = df.fillna(0) #Podemos reemplazar el cero por el valor que necesitemos\n",
        "print(df)"
      ],
      "metadata": {
        "id": "5bYtTtaM7lYG",
        "colab": {
          "base_uri": "https://localhost:8080/"
        },
        "outputId": "691a67da-0f5a-4606-c6ca-d7718b68eaf8"
      },
      "execution_count": null,
      "outputs": [
        {
          "output_type": "stream",
          "name": "stdout",
          "text": [
            "   columna1  columna2\n",
            "0       1.0       5.0\n",
            "1       2.0       0.0\n",
            "2       0.0       0.0\n",
            "3       4.0       8.0\n"
          ]
        }
      ]
    },
    {
      "cell_type": "markdown",
      "source": [
        "##Filtrar datos que rompen reglas de negocio o porque no los necesitemos"
      ],
      "metadata": {
        "id": "92xDXtCoZbVe"
      }
    },
    {
      "cell_type": "code",
      "source": [
        "\n",
        "# Creamos un DataFrame de ejemplo\n",
        "data = {'producto': ['A', 'B', 'C', 'D'],\n",
        "        'precio': [5, 15, 8, 20]}\n",
        "df = pd.DataFrame(data)\n",
        "\n",
        "print(df)\n"
      ],
      "metadata": {
        "id": "o3m7TB6yZnXx",
        "colab": {
          "base_uri": "https://localhost:8080/"
        },
        "outputId": "7872d785-313a-4179-d6da-026d2773b580"
      },
      "execution_count": null,
      "outputs": [
        {
          "output_type": "stream",
          "name": "stdout",
          "text": [
            "  producto  precio\n",
            "0        A       5\n",
            "1        B      15\n",
            "2        C       8\n",
            "3        D      20\n"
          ]
        }
      ]
    },
    {
      "cell_type": "code",
      "source": [
        "# Filtrar los productos con precio menor a 10\n",
        "df_filtrado = df[df['precio'] < 10]\n",
        "print(df_filtrado)"
      ],
      "metadata": {
        "id": "gD87fIRUZrXz",
        "colab": {
          "base_uri": "https://localhost:8080/"
        },
        "outputId": "25835dfb-31fa-4a24-b94a-041b87b1d6d5"
      },
      "execution_count": null,
      "outputs": [
        {
          "output_type": "stream",
          "name": "stdout",
          "text": [
            "  producto  precio\n",
            "0        A       5\n",
            "2        C       8\n"
          ]
        }
      ]
    },
    {
      "cell_type": "markdown",
      "source": [
        "##Eliminar columnas que no son necesarias"
      ],
      "metadata": {
        "id": "JQssgWdSZ8CF"
      }
    },
    {
      "cell_type": "code",
      "source": [
        "import pandas as pd\n",
        "\n",
        "# Creamos un DataFrame de ejemplo\n",
        "data = {'nombre': ['Ana', 'Pedro', 'María'],\n",
        "        'edad': [30, 25, 32],\n",
        "        'ciudad': ['Madrid', 'Barcelona', 'Sevilla'],\n",
        "        'correo': ['ana@example.com', 'pedro@example.com', 'maria@example.com'],\n",
        "        'telefono': [123456789, 987654321, 567891234]}\n",
        "df = pd.DataFrame(data)\n",
        "\n",
        "print(df)"
      ],
      "metadata": {
        "id": "DA6LSOxOZ_11",
        "colab": {
          "base_uri": "https://localhost:8080/"
        },
        "outputId": "1c6ac52b-0cd1-4bc9-a120-ed5b0ba1f613"
      },
      "execution_count": null,
      "outputs": [
        {
          "output_type": "stream",
          "name": "stdout",
          "text": [
            "  nombre  edad     ciudad             correo   telefono\n",
            "0    Ana    30     Madrid    ana@example.com  123456789\n",
            "1  Pedro    25  Barcelona  pedro@example.com  987654321\n",
            "2  María    32    Sevilla  maria@example.com  567891234\n"
          ]
        }
      ]
    },
    {
      "cell_type": "code",
      "source": [
        "# Eliminar las columnas 'correo' y 'telefono'\n",
        "columnas_a_eliminar = ['correo', 'telefono']\n",
        "\n",
        "#axis=1: Se refiere a las columnas.\n",
        "#inplace=True: modifica el DataFrame original en lugar de crear una copia y realizar los cambios en ella\n",
        "df.drop(columnas_a_eliminar, axis=1, inplace=True)\n",
        "\n",
        "print(df)"
      ],
      "metadata": {
        "id": "nTW98L5caFDr",
        "colab": {
          "base_uri": "https://localhost:8080/"
        },
        "outputId": "13b52d4f-b12d-4765-ba19-8014ceda9349"
      },
      "execution_count": null,
      "outputs": [
        {
          "output_type": "stream",
          "name": "stdout",
          "text": [
            "  nombre  edad     ciudad\n",
            "0    Ana    30     Madrid\n",
            "1  Pedro    25  Barcelona\n",
            "2  María    32    Sevilla\n"
          ]
        }
      ]
    },
    {
      "cell_type": "markdown",
      "source": [
        "<H1>\n",
        "📝 Ejercicios de Transformación de Datos"
      ],
      "metadata": {
        "id": "UUdA5u4rlp8F"
      }
    },
    {
      "cell_type": "code",
      "source": [],
      "metadata": {
        "id": "9zly4PI0Rfw5"
      },
      "execution_count": null,
      "outputs": []
    },
    {
      "cell_type": "markdown",
      "source": [
        "1. Transformación de Fechas y Horas: Crea un script que calcule y muestre la fecha del próximo lunes.\n",
        "\n",
        "Pista: Usa la librería datetime."
      ],
      "metadata": {
        "id": "HmyWTTzflwJx"
      }
    },
    {
      "cell_type": "code",
      "source": [
        "#Ejercicio 1\n",
        "from datetime import date, timedelta\n",
        "\n",
        "hoy = date.today()\n",
        "# Calculate the number of days until next Monday (Monday is day 0)\n",
        "dias_hasta_lunes = (0 - hoy.weekday() + 7) % 7\n",
        "proximo_lunes = hoy + timedelta(days=dias_hasta_lunes)\n",
        "\n",
        "print(\"La fecha del próximo lunes es:\", proximo_lunes)"
      ],
      "metadata": {
        "id": "qYpnCVAdRjjQ",
        "colab": {
          "base_uri": "https://localhost:8080/"
        },
        "outputId": "5631740a-66df-414d-fb31-e44cd5605062"
      },
      "execution_count": null,
      "outputs": [
        {
          "output_type": "stream",
          "name": "stdout",
          "text": [
            "La fecha del próximo lunes es: 2025-10-20\n"
          ]
        }
      ]
    },
    {
      "cell_type": "markdown",
      "source": [
        "2. Transformación de Strings a Números: Convierte la cadena \"99.5\" a un tipo de dato flotante y luego a un tipo de dato entero. ¿Qué sucede con el valor decimal al hacer la conversión final?"
      ],
      "metadata": {
        "id": "6G84VJ_Zl2eS"
      }
    },
    {
      "cell_type": "code",
      "source": [
        "#Ejercicio 2\n",
        "\n",
        "cadena_numero = \"99.5\"\n",
        "print(f\"Original string: {cadena_numero}, type: {type(cadena_numero)}\")\n",
        "\n",
        "# Convert to float\n",
        "numero_float = float(cadena_numero)\n",
        "print(f\"After converting to float: {numero_float}, type: {type(numero_float)}\")\n",
        "\n",
        "# Convert to integer\n",
        "numero_entero = int(numero_float)\n",
        "print(f\"After converting to integer: {numero_entero}, type: {type(numero_entero)}\")"
      ],
      "metadata": {
        "id": "Ve4kXCmQl7Aa",
        "colab": {
          "base_uri": "https://localhost:8080/"
        },
        "outputId": "e0c84087-a7f4-43af-e9e5-254cc2d89446"
      },
      "execution_count": 42,
      "outputs": [
        {
          "output_type": "stream",
          "name": "stdout",
          "text": [
            "Original string: 99.5, type: <class 'str'>\n",
            "After converting to float: 99.5, type: <class 'float'>\n",
            "After converting to integer: 99, type: <class 'int'>\n"
          ]
        }
      ]
    },
    {
      "cell_type": "markdown",
      "source": [
        "3. Filtrado de Datos: Dado el siguiente DataFrame, filtra los datos para mostrar solo las ventas que superan los 500 y son del producto 'A'."
      ],
      "metadata": {
        "id": "bWdhgfjGl8qZ"
      }
    },
    {
      "cell_type": "code",
      "source": [
        "#Ejercicio 3\n",
        "data = {'producto': ['A', 'B', 'A', 'C'], 'ventas': [600, 450, 750, 300]}\n",
        "df = pd.DataFrame(data)\n",
        "print(\"Original DataFrame:\")\n",
        "print(df)\n",
        "\n",
        "# Filter the DataFrame\n",
        "filtered_df = df[(df['ventas'] > 500) & (df['producto'] == 'A')]\n",
        "\n",
        "print(\"\\nFiltered DataFrame (ventas > 500 and producto == 'A'):\")\n",
        "print(filtered_df)"
      ],
      "metadata": {
        "id": "inU6zRgQmEIv",
        "colab": {
          "base_uri": "https://localhost:8080/"
        },
        "outputId": "4fe24369-1450-43a8-9a9a-0fd96013fc5d"
      },
      "execution_count": null,
      "outputs": [
        {
          "output_type": "stream",
          "name": "stdout",
          "text": [
            "Original DataFrame:\n",
            "  producto  ventas\n",
            "0        A     600\n",
            "1        B     450\n",
            "2        A     750\n",
            "3        C     300\n",
            "\n",
            "Filtered DataFrame (ventas > 500 and producto == 'A'):\n",
            "  producto  ventas\n",
            "0        A     600\n",
            "2        A     750\n"
          ]
        }
      ]
    },
    {
      "cell_type": "markdown",
      "source": [
        "4. Agrupación y Agregación de Datos: Utiliza el DataFrame anterior y agrúpalo por 'producto' para calcular la suma total de 'ventas' por cada producto.\n",
        "\n"
      ],
      "metadata": {
        "id": "elxPCgGZmKj-"
      }
    },
    {
      "cell_type": "code",
      "source": [
        "#Ejercicio 4\n",
        "# Group by 'producto' and calculate the sum of 'ventas'\n",
        "grouped_df = df.groupby('producto')['ventas'].sum().reset_index()\n",
        "\n",
        "print(\"\\nGrouped DataFrame (sum of ventas by producto):\")\n",
        "print(grouped_df)#Ejercicio 4\n"
      ],
      "metadata": {
        "id": "5wYtme-7mSNc",
        "colab": {
          "base_uri": "https://localhost:8080/"
        },
        "outputId": "9f0d64e7-9220-4482-e224-8fe4b3c767ab"
      },
      "execution_count": null,
      "outputs": [
        {
          "output_type": "stream",
          "name": "stdout",
          "text": [
            "\n",
            "Grouped DataFrame (sum of ventas by producto):\n",
            "  producto  ventas\n",
            "0        A    1350\n",
            "1        B     450\n",
            "2        C     300\n"
          ]
        }
      ]
    },
    {
      "cell_type": "markdown",
      "source": [
        "5. Unión de DataFrames: Tienes dos DataFrames, uno con datos de empleados y otro con sus salarios. Únelos para que en un solo DataFrame aparezca el nombre del empleado y su salario."
      ],
      "metadata": {
        "id": "_4nEHPP0mT6l"
      }
    },
    {
      "cell_type": "code",
      "source": [
        "#Ejercicio 5\n",
        "df_empleados = pd.DataFrame({'id_empleado': [101, 102, 103], 'nombre': ['Juan', 'María', 'Pedro']})\n",
        "df_salarios = pd.DataFrame({'id_empleado': [102, 101, 103], 'salario': [50000, 60000, 75000]})"
      ],
      "metadata": {
        "id": "u2iBJOSJmcme"
      },
      "execution_count": null,
      "outputs": []
    },
    {
      "cell_type": "markdown",
      "source": [
        "6. Reemplazo de Valores: En el siguiente DataFrame, reemplaza todos los valores None en la columna 'edad' por el valor de la edad promedio de la columna."
      ],
      "metadata": {
        "id": "k_ETC6v6metc"
      }
    },
    {
      "cell_type": "code",
      "source": [
        "#Ejercicio 6\n",
        "\n",
        "data = {'nombre': ['Ana', 'Luis', 'Sofía'], 'edad': [25, np.nan, 30]}\n",
        "df = pd.DataFrame(data)"
      ],
      "metadata": {
        "id": "PKB0du2nmpS_"
      },
      "execution_count": null,
      "outputs": []
    },
    {
      "cell_type": "markdown",
      "source": [
        ":7. Eliminación de Filas: Dado el DataFrame anterior, elimina la fila que contiene el valor None"
      ],
      "metadata": {
        "id": "yBnVDl0lmvpQ"
      }
    },
    {
      "cell_type": "code",
      "source": [
        "#Ejercicio 7\n",
        "# Eliminar filas con valores None\n",
        "df_cleaned = df.dropna()\n",
        "\n",
        "print(\"\\nDataFrame after dropping rows with None values:\")\n",
        "print(df_cleaned)"
      ],
      "metadata": {
        "id": "KBQpXaVVmzjs",
        "colab": {
          "base_uri": "https://localhost:8080/"
        },
        "outputId": "1f9ebf54-101d-44ba-8f6c-0ae6ad12e98a"
      },
      "execution_count": 39,
      "outputs": [
        {
          "output_type": "stream",
          "name": "stdout",
          "text": [
            "\n",
            "DataFrame after dropping rows with None values:\n",
            "  nombre  edad\n",
            "0    Ana  25.0\n",
            "2  Sofía  30.0\n"
          ]
        }
      ]
    },
    {
      "cell_type": "markdown",
      "source": [
        "8. Transformación de Datos de una Columna: En el siguiente DataFrame, convierte todos los valores de la columna 'ciudad' a mayúsculas."
      ],
      "metadata": {
        "id": "TL_P3iP6m1SH"
      }
    },
    {
      "cell_type": "code",
      "source": [
        "#Ejercicio 8\n",
        "df_ciudades = pd.DataFrame({'ciudad': ['madrid', 'barcelona', 'sevilla']})\n"
      ],
      "metadata": {
        "id": "Q1dVLbrFneXb"
      },
      "execution_count": null,
      "outputs": []
    },
    {
      "cell_type": "markdown",
      "source": [
        "9. Creación de una Nueva Columna: Usando el DataFrame de df_ciudades, crea una nueva columna llamada 'país' y asigna el valor 'España' a todas las filas."
      ],
      "metadata": {
        "id": "rxksaydwnvho"
      }
    },
    {
      "cell_type": "code",
      "source": [
        "#Ejercicio 9\n",
        "import pandas as pd\n",
        "\n",
        "df_ciudades = pd.DataFrame({'ciudad': ['madrid', 'barcelona', 'sevilla']})\n",
        "df_ciudades['país'] = 'España'\n",
        "print(df_ciudades)"
      ],
      "metadata": {
        "id": "bL19LKPhnz_G",
        "colab": {
          "base_uri": "https://localhost:8080/"
        },
        "outputId": "bda2a738-9bd7-4741-ba75-27636bca7f83"
      },
      "execution_count": 40,
      "outputs": [
        {
          "output_type": "stream",
          "name": "stdout",
          "text": [
            "      ciudad    país\n",
            "0     madrid  España\n",
            "1  barcelona  España\n",
            "2    sevilla  España\n"
          ]
        }
      ]
    },
    {
      "cell_type": "markdown",
      "source": [
        "10. Eliminar Duplicados: En el siguiente DataFrame, elimina las filas duplicadas."
      ],
      "metadata": {
        "id": "1i0vq2sMoDIb"
      }
    },
    {
      "cell_type": "code",
      "source": [
        "#Ejercicio 10\n",
        "df_duplicados = pd.DataFrame({'A': [1, 2, 2, 3], 'B': ['x', 'y', 'y', 'z']})\n",
        "\n"
      ],
      "metadata": {
        "id": "_4wfxYaqoE8b"
      },
      "execution_count": 41,
      "outputs": []
    }
  ]
}