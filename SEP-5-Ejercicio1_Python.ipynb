{
  "nbformat": 4,
  "nbformat_minor": 0,
  "metadata": {
    "colab": {
      "provenance": []
    },
    "kernelspec": {
      "name": "python3",
      "display_name": "Python 3"
    },
    "language_info": {
      "name": "python"
    }
  },
  "cells": [
    {
      "cell_type": "markdown",
      "source": [
        "<H1> **Introducción a Python para Big Data** : 🎊\n",
        "\n",
        "Este notebook te guiará a través de los conceptos fundamentales de Python y la librería Pandas, esenciales para el análisis de datos."
      ],
      "metadata": {
        "id": "NS-0Y5_yRefy"
      }
    },
    {
      "cell_type": "markdown",
      "source": [
        "<H3> 1. Primeros pasos con Python 🆎\n",
        "\n",
        "Comenzaremos con los conceptos básicos de Python, como la creación de variables y la impresión de valores."
      ],
      "metadata": {
        "id": "7wyzz8kgSQIZ"
      }
    },
    {
      "cell_type": "code",
      "execution_count": null,
      "metadata": {
        "id": "zRRvx4lgRWGq",
        "colab": {
          "base_uri": "https://localhost:8080/"
        },
        "outputId": "f6c8ef41-d8b6-44c6-d170-7689d23d67b0"
      },
      "outputs": [
        {
          "output_type": "stream",
          "name": "stdout",
          "text": [
            "2\n",
            "Big Data\n"
          ]
        }
      ],
      "source": [
        "# Asignación y tipos de datos\n",
        "a = 1 + 1\n",
        "b = \"Big Data\"\n",
        "\n",
        "# Imprimir variables en pantalla\n",
        "print(a)\n",
        "print(b)"
      ]
    },
    {
      "cell_type": "markdown",
      "source": [
        "<H3> 2. Manejo de datos con Pandas ⛵\n",
        "\n",
        "Pandas es una librería fundamental para trabajar con datos tabulares. Un DataFrame de Pandas es una estructura similar a una hoja de cálculo, con filas y columnas."
      ],
      "metadata": {
        "id": "pFWhqJItTTST"
      }
    },
    {
      "cell_type": "markdown",
      "source": [
        "Crear un DataFrame\n",
        "\n",
        "Podemos crear un DataFrame a partir de listas de Python."
      ],
      "metadata": {
        "id": "VTFWU4jDTjd7"
      }
    },
    {
      "cell_type": "code",
      "source": [
        "# Listas de datos\n",
        "lista_personajes = ['Luke Skywalker', 'C-3PO', 'Darth Vader']\n",
        "lista_altura = [172, 167, 202]\n",
        "\n",
        "# Crear el DataFrame\n",
        "import pandas as pd\n",
        "\n",
        "d_star_wars = pd.DataFrame({\n",
        "    'personaje': lista_personajes,\n",
        "    'altura': lista_altura\n",
        "})\n",
        "\n",
        "# Mostrar el DataFrame y sus tipos de datos\n",
        "print(d_star_wars)\n",
        "print(\"---\")\n",
        "print(d_star_wars.dtypes)"
      ],
      "metadata": {
        "id": "I3zNx4PuTlWn"
      },
      "execution_count": null,
      "outputs": []
    },
    {
      "cell_type": "markdown",
      "source": [
        "<H3> 3. Cargar y explorar un archivo ✈\n",
        "\n",
        "En el mundo real, los datos rara vez se crean manualmente.\n",
        "Veamos como cargar un archivo CSV directamente desde una URL."
      ],
      "metadata": {
        "id": "MkfXmVeoTziU"
      }
    },
    {
      "cell_type": "code",
      "source": [
        "#Antes de comenzar tenemos que instalar la librería funpymodeling que me permite conocer información estadística de los datos\n",
        "%%capture\n",
        "!pip install funpymodeling"
      ],
      "metadata": {
        "id": "zgARZ5KPaL6b"
      },
      "execution_count": null,
      "outputs": []
    },
    {
      "cell_type": "code",
      "source": [
        "# Cargar un archivo CSV desde una URL\n",
        "url = 'https://raw.githubusercontent.com/fpineyro/homework-0/master/starwars.csv'\n",
        "d_star_wars_url = pd.read_csv(url)\n",
        "\n",
        "# Explorar el DataFrame\n",
        "# Muestra las primeras 5 filas\n",
        "print(\"Primeras 5 filas:\")\n",
        "print(d_star_wars_url.head(7))\n",
        "\n",
        "# Muestra el número de filas y columnas (filas, columnas)\n",
        "print(\"\\nDimensiones del DataFrame:\")\n",
        "print(d_star_wars_url.shape)\n",
        "\n",
        "# Muestra un resumen estadístico de las variables\n",
        "# ¡Asegúrate de instalar esta librería antes!\n",
        "# !pip install funpymodeling\n",
        "from funpymodeling.exploratory import status\n",
        "print(\"\\nEstadísticas del DataFrame:\")\n",
        "status(d_star_wars_url)"
      ],
      "metadata": {
        "id": "zpAVR1VCT8dg"
      },
      "execution_count": null,
      "outputs": []
    },
    {
      "cell_type": "markdown",
      "source": [
        "<H3>4. Filtrar y seleccionar datos ⛳\n",
        "\n",
        "Para seleccionar datos específicos de tu DataFrame, usa loc. Con loc puedes seleccionar filas y columnas por sus nombres o etiquetas.\n",
        "\n",
        "\n",
        "El formato loc[filas, columnas] te permite seleccionar datos usando las etiquetas de filas y columnas.\n",
        "\n",
        "[0, :]: El primer valor (0) selecciona la fila con la etiqueta 0. Los dos puntos (:) significan todas las columnas.\n",
        "\n",
        "[:, 'nombre_columna']: Los dos puntos (:) seleccionan todas las filas. El nombre de la columna selecciona una columna específica."
      ],
      "metadata": {
        "id": "AJreK_AQUIqC"
      }
    },
    {
      "cell_type": "markdown",
      "source": [
        "4.1. Seleccionar columnas"
      ],
      "metadata": {
        "id": "0oCatW26UTHu"
      }
    },
    {
      "cell_type": "code",
      "source": [
        "# Seleccionar una sola columna\n",
        "#d_star_wars['personaje']\n",
        "\n",
        "# Seleccionar múltiples columnas\n",
        "d_star_wars[['personaje', 'altura']]"
      ],
      "metadata": {
        "id": "pCqFUW0GUUaC"
      },
      "execution_count": null,
      "outputs": []
    },
    {
      "cell_type": "markdown",
      "source": [
        "4.2. Seleccionar filas\n",
        "\n",
        "Podemos seleccionar filas basándote en su posición (índice).\n",
        "\n",
        "Nota: el uso de 0:2 en loc es inclusivo, lo que significa que incluye los índices 0, 1 y 2."
      ],
      "metadata": {
        "id": "AEIkKnO8UXP0"
      }
    },
    {
      "cell_type": "code",
      "source": [
        "# Seleccionar la primera fila\n",
        "d_star_wars.loc[0, :]"
      ],
      "metadata": {
        "id": "fmlUFKq-brwu"
      },
      "execution_count": null,
      "outputs": []
    },
    {
      "cell_type": "code",
      "source": [
        "# Seleccionar las 3 primeras filas\n",
        "d_star_wars.loc[0:2, :]"
      ],
      "metadata": {
        "id": "Ed6XdvM-Ucfv"
      },
      "execution_count": null,
      "outputs": []
    },
    {
      "cell_type": "markdown",
      "source": [
        "4.3. Filtrar con condiciones\n",
        "\n",
        "Podemos usar una condición para filtrar filas que cumplan con un criterio específico. Por ejemplo, encontrar todos los personajes cuya altura sea mayor que 200."
      ],
      "metadata": {
        "id": "O-Xsbv01Uf7r"
      }
    },
    {
      "cell_type": "code",
      "source": [
        "# Crear un filtro (devuelve True/False para cada fila)\n",
        "filtro_altura = d_star_wars['altura'] > 200\n",
        "\n",
        "# Aplicar el filtro para obtener solo los registros que cumplen la condición\n",
        "d_star_wars.loc[filtro_altura, :]"
      ],
      "metadata": {
        "id": "r5rHrYuaUvfm"
      },
      "execution_count": null,
      "outputs": []
    },
    {
      "cell_type": "markdown",
      "source": [
        "4.4. Reemplazar valores\n",
        "\n",
        "Podemos combinar el filtrado con la asignación para cambiar valores específicos en el DataFrame."
      ],
      "metadata": {
        "id": "2GFmte7SUy-I"
      }
    },
    {
      "cell_type": "code",
      "source": [
        "# Reemplazar la altura de Darth Vader por 185\n",
        "d_star_wars.loc[d_star_wars['personaje'] == 'Darth Vader', 'altura'] = 185\n",
        "\n",
        "# Verificar el cambio\n",
        "print(d_star_wars.loc[d_star_wars['personaje'] == 'Darth Vader', :])"
      ],
      "metadata": {
        "id": "eN37PRkwU5PA"
      },
      "execution_count": null,
      "outputs": []
    },
    {
      "cell_type": "markdown",
      "source": [
        "<H3>5. Manejar valores nulos (NaN) ⛎\n",
        "\n",
        "5.1. Los valores faltantes (NaN) son muy comunes. Es crucial saber cómo identificarlos y manejarlos."
      ],
      "metadata": {
        "id": "BInpeQmdU92a"
      }
    },
    {
      "cell_type": "code",
      "source": [
        "# Identificar nulos por columna\n",
        "print(\"Número de nulos en cada columna:\")\n",
        "print(d_star_wars_url.isnull().sum())"
      ],
      "metadata": {
        "id": "OwirHvyMi-Mw"
      },
      "execution_count": null,
      "outputs": []
    },
    {
      "cell_type": "code",
      "source": [
        "d_star_wars_url"
      ],
      "metadata": {
        "id": "seDjzfQyuKJ4"
      },
      "execution_count": null,
      "outputs": []
    },
    {
      "cell_type": "code",
      "source": [
        "# Reemplazar valores nulos en columnas categóricas\n",
        "valores_a_rellenar = {'homeworld': 'nulo_world', 'species': 'nulo_species'}\n",
        "\n",
        "d_star_wars_url.fillna(value=valores_a_rellenar, inplace=True)\n",
        "print(d_star_wars_url)"
      ],
      "metadata": {
        "id": "ZSIu7eYHjDAY"
      },
      "execution_count": null,
      "outputs": []
    },
    {
      "cell_type": "code",
      "source": [
        "#Vemos cual es el promedio de altura\n",
        "print(d_star_wars_url['height'].mean())"
      ],
      "metadata": {
        "id": "dsArQxA3ju9R"
      },
      "execution_count": null,
      "outputs": []
    },
    {
      "cell_type": "code",
      "source": [
        "# Reemplazar valores nulos en columnas numéricas con el promedio\n",
        "promedio_altura = d_star_wars_url['height'].mean()\n",
        "\n",
        "\n",
        "d_star_wars_url['height'] = d_star_wars_url['height'].fillna(promedio_altura)\n",
        "d_star_wars_url"
      ],
      "metadata": {
        "id": "dnNkoKHyjoOL"
      },
      "execution_count": null,
      "outputs": []
    },
    {
      "cell_type": "code",
      "source": [
        "# Verificar que los nulos fueron reemplazados\n",
        "status(d_star_wars_url['height'])"
      ],
      "metadata": {
        "id": "AMD9CntTVGcy"
      },
      "execution_count": null,
      "outputs": []
    },
    {
      "cell_type": "markdown",
      "source": [
        "5.2. Eliminar registros con valores nulos\n",
        "A veces, en lugar de reemplazar los valores nulos, lo mejor es eliminar por completo las filas o columnas que los contienen. El método dropna() de Pandas te permite hacerlo fácilmente.\n",
        "\n",
        "Por defecto, dropna() elimina cualquier fila que contenga al menos un valor nulo. Es una forma rápida de limpiar el conjunto de datos si las filas con valores faltantes no son importantes para tu análisis."
      ],
      "metadata": {
        "id": "KdauIfgPiYEd"
      }
    },
    {
      "cell_type": "code",
      "source": [
        "# Eliminar las filas con valores nulos\n",
        "d_star_wars_url.dropna(inplace=True)\n",
        "status(d_star_wars_url)"
      ],
      "metadata": {
        "id": "WwXy_OhhipCN"
      },
      "execution_count": null,
      "outputs": []
    },
    {
      "cell_type": "markdown",
      "source": [
        "<H3> 6. Crear nuevas columnas 🛋\n",
        "\n",
        "Puedes crear una nueva columna en un DataFrame y asignarle valores basados en una condición. Es una forma muy poderosa de derivar información a partir de los datos existentes."
      ],
      "metadata": {
        "id": "FM6jTA9pYHX2"
      }
    },
    {
      "cell_type": "code",
      "source": [
        "# Asignamos True si la altura es > 180, de lo contrario, False\n",
        "d_star_wars['is_tall'] = d_star_wars['altura'] > 180\n",
        "\n",
        "# Muestra el DataFrame con la nueva columna\n",
        "print(d_star_wars)"
      ],
      "metadata": {
        "id": "UTA-Mij7YOvX"
      },
      "execution_count": null,
      "outputs": []
    },
    {
      "cell_type": "markdown",
      "source": [
        "<H3> 7. Copiar un DataFrame ©\n",
        "\n",
        "Cuando realizas cambios en un DataFrame y quieres conservar la versión original, es una buena práctica hacer una copia. Esto te permite manipular la nueva versión sin afectar la original."
      ],
      "metadata": {
        "id": "Qk97njJwYiG8"
      }
    },
    {
      "cell_type": "code",
      "source": [
        "#Hacer una copia del DataFrame\n",
        "d_star_wars_copy = d_star_wars.copy()\n",
        "\n",
        "# Ahora puedes trabajar con d_star_wars_copy sin afectar el original\n",
        "d_star_wars_copy"
      ],
      "metadata": {
        "id": "TamSV6EHYqet"
      },
      "execution_count": null,
      "outputs": []
    },
    {
      "cell_type": "markdown",
      "source": [
        "************************************************************************************"
      ],
      "metadata": {
        "id": "P7-90WAGVPnc"
      }
    },
    {
      "cell_type": "markdown",
      "source": [
        "<H2> Ejercicios 🔰\n",
        "\n",
        "Aquí hay una serie de ejercicios para aplicar lo que aprendiste. ¡No te frustres si te toma tiempo! La práctica es la clave."
      ],
      "metadata": {
        "id": "a3Om2eBYVTy_"
      }
    },
    {
      "cell_type": "markdown",
      "source": [
        "<H3> Ejercicio 1. Carga el archivo heart_disease.csv en un DataFrame llamado d_hd. URL: https://raw.githubusercontent.com/fpineyro/homework-0/master/heart_disease.csv"
      ],
      "metadata": {
        "id": "9Rt_Upr4VoJe"
      }
    },
    {
      "cell_type": "code",
      "source": [
        "##Ejercicio 1\n",
        "\n",
        "# Crear el DataFrame\n",
        "import pandas as pd\n",
        "\n",
        "url = 'https://raw.githubusercontent.com/fpineyro/homework-0/master/heart_disease.csv'\n",
        "d_hd = pd.read_csv(url)\n",
        "\n",
        "# Mostrar el DataFrame y sus tipos de datos\n",
        "print(d_hd)\n"
      ],
      "metadata": {
        "id": "8YJ_f75pV1zI",
        "colab": {
          "base_uri": "https://localhost:8080/"
        },
        "outputId": "b62830ae-aa38-4f6a-98bb-b5deeea6d8ef"
      },
      "execution_count": null,
      "outputs": [
        {
          "output_type": "stream",
          "name": "stdout",
          "text": [
            "     age  gender  chest_pain  resting_blood_pressure  serum_cholestoral  \\\n",
            "0     63    male           1                     145                233   \n",
            "1     67    male           4                     160                286   \n",
            "2     67    male           4                     120                229   \n",
            "3     37    male           3                     130                250   \n",
            "4     41  female           2                     130                204   \n",
            "..   ...     ...         ...                     ...                ...   \n",
            "298   45    male           1                     110                264   \n",
            "299   68    male           4                     144                193   \n",
            "300   57    male           4                     130                131   \n",
            "301   57  female           2                     130                236   \n",
            "302   38    male           3                     138                175   \n",
            "\n",
            "     fasting_blood_sugar  resting_electro  max_heart_rate  exer_angina  \\\n",
            "0                      1                2             150            0   \n",
            "1                      0                2             108            1   \n",
            "2                      0                2             129            1   \n",
            "3                      0                0             187            0   \n",
            "4                      0                2             172            0   \n",
            "..                   ...              ...             ...          ...   \n",
            "298                    0                0             132            0   \n",
            "299                    1                0             141            0   \n",
            "300                    0                0             115            1   \n",
            "301                    0                2             174            0   \n",
            "302                    0                0             173            0   \n",
            "\n",
            "     oldpeak  slope  num_vessels_flour  thal  heart_disease_severity  \\\n",
            "0        2.3      3                0.0   6.0                       0   \n",
            "1        1.5      2                3.0   3.0                       2   \n",
            "2        2.6      2                2.0   7.0                       1   \n",
            "3        3.5      3                0.0   3.0                       0   \n",
            "4        1.4      1                0.0   3.0                       0   \n",
            "..       ...    ...                ...   ...                     ...   \n",
            "298      1.2      2                0.0   7.0                       1   \n",
            "299      3.4      2                2.0   7.0                       2   \n",
            "300      1.2      2                1.0   7.0                       3   \n",
            "301      0.0      2                1.0   3.0                       1   \n",
            "302      0.0      1                NaN   3.0                       0   \n",
            "\n",
            "     exter_angina has_heart_disease  \n",
            "0               0                no  \n",
            "1               1               yes  \n",
            "2               1               yes  \n",
            "3               0                no  \n",
            "4               0                no  \n",
            "..            ...               ...  \n",
            "298             0               yes  \n",
            "299             0               yes  \n",
            "300             1               yes  \n",
            "301             0               yes  \n",
            "302             0                no  \n",
            "\n",
            "[303 rows x 16 columns]\n"
          ]
        }
      ]
    },
    {
      "cell_type": "markdown",
      "source": [
        "<H3> Ejercicio 2. Muestra los primeros 5 y los últimos 5 registros de d_hd."
      ],
      "metadata": {
        "id": "F0ntYF_IV7Cw"
      }
    },
    {
      "cell_type": "code",
      "source": [
        "##Ejercicio 2\n",
        "print(\"Primeras 5 filas:\")\n",
        "print(d_hd.head(5))\n",
        "\n",
        "print(\"\\nUltimas 5 filas:\")\n",
        "print(d_hd.tail(5))"
      ],
      "metadata": {
        "id": "x529M9ChV9Gn",
        "colab": {
          "base_uri": "https://localhost:8080/"
        },
        "outputId": "ca4542f7-f7fd-43a3-df74-3f6965c2aed7"
      },
      "execution_count": null,
      "outputs": [
        {
          "output_type": "stream",
          "name": "stdout",
          "text": [
            "Primeras 5 filas:\n",
            "   age  gender  chest_pain  resting_blood_pressure  serum_cholestoral  \\\n",
            "0   63    male           1                     145                233   \n",
            "1   67    male           4                     160                286   \n",
            "2   67    male           4                     120                229   \n",
            "3   37    male           3                     130                250   \n",
            "4   41  female           2                     130                204   \n",
            "\n",
            "   fasting_blood_sugar  resting_electro  max_heart_rate  exer_angina  oldpeak  \\\n",
            "0                    1                2             150            0      2.3   \n",
            "1                    0                2             108            1      1.5   \n",
            "2                    0                2             129            1      2.6   \n",
            "3                    0                0             187            0      3.5   \n",
            "4                    0                2             172            0      1.4   \n",
            "\n",
            "   slope  num_vessels_flour  thal  heart_disease_severity  exter_angina  \\\n",
            "0      3                0.0   6.0                       0             0   \n",
            "1      2                3.0   3.0                       2             1   \n",
            "2      2                2.0   7.0                       1             1   \n",
            "3      3                0.0   3.0                       0             0   \n",
            "4      1                0.0   3.0                       0             0   \n",
            "\n",
            "  has_heart_disease  \n",
            "0                no  \n",
            "1               yes  \n",
            "2               yes  \n",
            "3                no  \n",
            "4                no  \n",
            "\n",
            "Ultimas 5 filas:\n",
            "     age  gender  chest_pain  resting_blood_pressure  serum_cholestoral  \\\n",
            "298   45    male           1                     110                264   \n",
            "299   68    male           4                     144                193   \n",
            "300   57    male           4                     130                131   \n",
            "301   57  female           2                     130                236   \n",
            "302   38    male           3                     138                175   \n",
            "\n",
            "     fasting_blood_sugar  resting_electro  max_heart_rate  exer_angina  \\\n",
            "298                    0                0             132            0   \n",
            "299                    1                0             141            0   \n",
            "300                    0                0             115            1   \n",
            "301                    0                2             174            0   \n",
            "302                    0                0             173            0   \n",
            "\n",
            "     oldpeak  slope  num_vessels_flour  thal  heart_disease_severity  \\\n",
            "298      1.2      2                0.0   7.0                       1   \n",
            "299      3.4      2                2.0   7.0                       2   \n",
            "300      1.2      2                1.0   7.0                       3   \n",
            "301      0.0      2                1.0   3.0                       1   \n",
            "302      0.0      1                NaN   3.0                       0   \n",
            "\n",
            "     exter_angina has_heart_disease  \n",
            "298             0               yes  \n",
            "299             0               yes  \n",
            "300             1               yes  \n",
            "301             0               yes  \n",
            "302             0                no  \n"
          ]
        }
      ]
    },
    {
      "cell_type": "markdown",
      "source": [
        "<H3> Ejercicio 3. Selecciona e imprime las columnas age y has_heart_disease."
      ],
      "metadata": {
        "id": "_L7bAy4GWOLs"
      }
    },
    {
      "cell_type": "code",
      "source": [
        "##Ejercicio 3\n",
        "print(d_hd[['age', 'has_heart_disease']])\n"
      ],
      "metadata": {
        "id": "b00xvWIwWVHu",
        "colab": {
          "base_uri": "https://localhost:8080/"
        },
        "outputId": "1e79dae3-e456-4152-978c-31a373a16fae"
      },
      "execution_count": null,
      "outputs": [
        {
          "output_type": "stream",
          "name": "stdout",
          "text": [
            "     age has_heart_disease\n",
            "0     63                no\n",
            "1     67               yes\n",
            "2     67               yes\n",
            "3     37                no\n",
            "4     41                no\n",
            "..   ...               ...\n",
            "298   45               yes\n",
            "299   68               yes\n",
            "300   57               yes\n",
            "301   57               yes\n",
            "302   38                no\n",
            "\n",
            "[303 rows x 2 columns]\n"
          ]
        }
      ]
    },
    {
      "cell_type": "markdown",
      "source": [
        "<H3> Ejercicio 4. Crea un filtro para encontrar todos los registros donde colesterol (serum_cholestoral) sea mayor que 250."
      ],
      "metadata": {
        "id": "ePvjo9GwWaKP"
      }
    },
    {
      "cell_type": "code",
      "source": [
        "##Ejercicio 4\n",
        "\n",
        "filtroReg = d_hd['serum_cholestoral'] > 250\n",
        "d_hd.loc[filtroReg, :]"
      ],
      "metadata": {
        "id": "TOrnKpd0WiWd",
        "colab": {
          "base_uri": "https://localhost:8080/",
          "height": 444
        },
        "outputId": "8c6d11c3-82b4-4499-cb11-30e933e8932e"
      },
      "execution_count": null,
      "outputs": [
        {
          "output_type": "execute_result",
          "data": {
            "text/plain": [
              "     age  gender  chest_pain  resting_blood_pressure  serum_cholestoral  \\\n",
              "1     67    male           4                     160                286   \n",
              "6     62  female           4                     140                268   \n",
              "7     57  female           4                     120                354   \n",
              "8     63    male           4                     130                254   \n",
              "11    56  female           2                     140                294   \n",
              "..   ...     ...         ...                     ...                ...   \n",
              "280   57    male           4                     110                335   \n",
              "281   47    male           3                     130                253   \n",
              "285   58    male           4                     114                318   \n",
              "291   55  female           2                     132                342   \n",
              "298   45    male           1                     110                264   \n",
              "\n",
              "     fasting_blood_sugar  resting_electro  max_heart_rate  exer_angina  \\\n",
              "1                      0                2             108            1   \n",
              "6                      0                2             160            0   \n",
              "7                      0                0             163            1   \n",
              "8                      0                2             147            0   \n",
              "11                     0                2             153            0   \n",
              "..                   ...              ...             ...          ...   \n",
              "280                    0                0             143            1   \n",
              "281                    0                0             179            0   \n",
              "285                    0                1             140            0   \n",
              "291                    0                0             166            0   \n",
              "298                    0                0             132            0   \n",
              "\n",
              "     oldpeak  slope  num_vessels_flour  thal  heart_disease_severity  \\\n",
              "1        1.5      2                3.0   3.0                       2   \n",
              "6        3.6      3                2.0   3.0                       3   \n",
              "7        0.6      1                0.0   3.0                       0   \n",
              "8        1.4      2                1.0   7.0                       2   \n",
              "11       1.3      2                0.0   3.0                       0   \n",
              "..       ...    ...                ...   ...                     ...   \n",
              "280      3.0      2                1.0   7.0                       2   \n",
              "281      0.0      1                0.0   3.0                       0   \n",
              "285      4.4      3                3.0   6.0                       4   \n",
              "291      1.2      1                0.0   3.0                       0   \n",
              "298      1.2      2                0.0   7.0                       1   \n",
              "\n",
              "     exter_angina has_heart_disease  \n",
              "1               1               yes  \n",
              "6               0               yes  \n",
              "7               1                no  \n",
              "8               0               yes  \n",
              "11              0                no  \n",
              "..            ...               ...  \n",
              "280             1               yes  \n",
              "281             0                no  \n",
              "285             0               yes  \n",
              "291             0                no  \n",
              "298             0               yes  \n",
              "\n",
              "[127 rows x 16 columns]"
            ],
            "text/html": [
              "\n",
              "  <div id=\"df-6b6e0da2-6ef2-462b-b106-f482b88870ca\" class=\"colab-df-container\">\n",
              "    <div>\n",
              "<style scoped>\n",
              "    .dataframe tbody tr th:only-of-type {\n",
              "        vertical-align: middle;\n",
              "    }\n",
              "\n",
              "    .dataframe tbody tr th {\n",
              "        vertical-align: top;\n",
              "    }\n",
              "\n",
              "    .dataframe thead th {\n",
              "        text-align: right;\n",
              "    }\n",
              "</style>\n",
              "<table border=\"1\" class=\"dataframe\">\n",
              "  <thead>\n",
              "    <tr style=\"text-align: right;\">\n",
              "      <th></th>\n",
              "      <th>age</th>\n",
              "      <th>gender</th>\n",
              "      <th>chest_pain</th>\n",
              "      <th>resting_blood_pressure</th>\n",
              "      <th>serum_cholestoral</th>\n",
              "      <th>fasting_blood_sugar</th>\n",
              "      <th>resting_electro</th>\n",
              "      <th>max_heart_rate</th>\n",
              "      <th>exer_angina</th>\n",
              "      <th>oldpeak</th>\n",
              "      <th>slope</th>\n",
              "      <th>num_vessels_flour</th>\n",
              "      <th>thal</th>\n",
              "      <th>heart_disease_severity</th>\n",
              "      <th>exter_angina</th>\n",
              "      <th>has_heart_disease</th>\n",
              "    </tr>\n",
              "  </thead>\n",
              "  <tbody>\n",
              "    <tr>\n",
              "      <th>1</th>\n",
              "      <td>67</td>\n",
              "      <td>male</td>\n",
              "      <td>4</td>\n",
              "      <td>160</td>\n",
              "      <td>286</td>\n",
              "      <td>0</td>\n",
              "      <td>2</td>\n",
              "      <td>108</td>\n",
              "      <td>1</td>\n",
              "      <td>1.5</td>\n",
              "      <td>2</td>\n",
              "      <td>3.0</td>\n",
              "      <td>3.0</td>\n",
              "      <td>2</td>\n",
              "      <td>1</td>\n",
              "      <td>yes</td>\n",
              "    </tr>\n",
              "    <tr>\n",
              "      <th>6</th>\n",
              "      <td>62</td>\n",
              "      <td>female</td>\n",
              "      <td>4</td>\n",
              "      <td>140</td>\n",
              "      <td>268</td>\n",
              "      <td>0</td>\n",
              "      <td>2</td>\n",
              "      <td>160</td>\n",
              "      <td>0</td>\n",
              "      <td>3.6</td>\n",
              "      <td>3</td>\n",
              "      <td>2.0</td>\n",
              "      <td>3.0</td>\n",
              "      <td>3</td>\n",
              "      <td>0</td>\n",
              "      <td>yes</td>\n",
              "    </tr>\n",
              "    <tr>\n",
              "      <th>7</th>\n",
              "      <td>57</td>\n",
              "      <td>female</td>\n",
              "      <td>4</td>\n",
              "      <td>120</td>\n",
              "      <td>354</td>\n",
              "      <td>0</td>\n",
              "      <td>0</td>\n",
              "      <td>163</td>\n",
              "      <td>1</td>\n",
              "      <td>0.6</td>\n",
              "      <td>1</td>\n",
              "      <td>0.0</td>\n",
              "      <td>3.0</td>\n",
              "      <td>0</td>\n",
              "      <td>1</td>\n",
              "      <td>no</td>\n",
              "    </tr>\n",
              "    <tr>\n",
              "      <th>8</th>\n",
              "      <td>63</td>\n",
              "      <td>male</td>\n",
              "      <td>4</td>\n",
              "      <td>130</td>\n",
              "      <td>254</td>\n",
              "      <td>0</td>\n",
              "      <td>2</td>\n",
              "      <td>147</td>\n",
              "      <td>0</td>\n",
              "      <td>1.4</td>\n",
              "      <td>2</td>\n",
              "      <td>1.0</td>\n",
              "      <td>7.0</td>\n",
              "      <td>2</td>\n",
              "      <td>0</td>\n",
              "      <td>yes</td>\n",
              "    </tr>\n",
              "    <tr>\n",
              "      <th>11</th>\n",
              "      <td>56</td>\n",
              "      <td>female</td>\n",
              "      <td>2</td>\n",
              "      <td>140</td>\n",
              "      <td>294</td>\n",
              "      <td>0</td>\n",
              "      <td>2</td>\n",
              "      <td>153</td>\n",
              "      <td>0</td>\n",
              "      <td>1.3</td>\n",
              "      <td>2</td>\n",
              "      <td>0.0</td>\n",
              "      <td>3.0</td>\n",
              "      <td>0</td>\n",
              "      <td>0</td>\n",
              "      <td>no</td>\n",
              "    </tr>\n",
              "    <tr>\n",
              "      <th>...</th>\n",
              "      <td>...</td>\n",
              "      <td>...</td>\n",
              "      <td>...</td>\n",
              "      <td>...</td>\n",
              "      <td>...</td>\n",
              "      <td>...</td>\n",
              "      <td>...</td>\n",
              "      <td>...</td>\n",
              "      <td>...</td>\n",
              "      <td>...</td>\n",
              "      <td>...</td>\n",
              "      <td>...</td>\n",
              "      <td>...</td>\n",
              "      <td>...</td>\n",
              "      <td>...</td>\n",
              "      <td>...</td>\n",
              "    </tr>\n",
              "    <tr>\n",
              "      <th>280</th>\n",
              "      <td>57</td>\n",
              "      <td>male</td>\n",
              "      <td>4</td>\n",
              "      <td>110</td>\n",
              "      <td>335</td>\n",
              "      <td>0</td>\n",
              "      <td>0</td>\n",
              "      <td>143</td>\n",
              "      <td>1</td>\n",
              "      <td>3.0</td>\n",
              "      <td>2</td>\n",
              "      <td>1.0</td>\n",
              "      <td>7.0</td>\n",
              "      <td>2</td>\n",
              "      <td>1</td>\n",
              "      <td>yes</td>\n",
              "    </tr>\n",
              "    <tr>\n",
              "      <th>281</th>\n",
              "      <td>47</td>\n",
              "      <td>male</td>\n",
              "      <td>3</td>\n",
              "      <td>130</td>\n",
              "      <td>253</td>\n",
              "      <td>0</td>\n",
              "      <td>0</td>\n",
              "      <td>179</td>\n",
              "      <td>0</td>\n",
              "      <td>0.0</td>\n",
              "      <td>1</td>\n",
              "      <td>0.0</td>\n",
              "      <td>3.0</td>\n",
              "      <td>0</td>\n",
              "      <td>0</td>\n",
              "      <td>no</td>\n",
              "    </tr>\n",
              "    <tr>\n",
              "      <th>285</th>\n",
              "      <td>58</td>\n",
              "      <td>male</td>\n",
              "      <td>4</td>\n",
              "      <td>114</td>\n",
              "      <td>318</td>\n",
              "      <td>0</td>\n",
              "      <td>1</td>\n",
              "      <td>140</td>\n",
              "      <td>0</td>\n",
              "      <td>4.4</td>\n",
              "      <td>3</td>\n",
              "      <td>3.0</td>\n",
              "      <td>6.0</td>\n",
              "      <td>4</td>\n",
              "      <td>0</td>\n",
              "      <td>yes</td>\n",
              "    </tr>\n",
              "    <tr>\n",
              "      <th>291</th>\n",
              "      <td>55</td>\n",
              "      <td>female</td>\n",
              "      <td>2</td>\n",
              "      <td>132</td>\n",
              "      <td>342</td>\n",
              "      <td>0</td>\n",
              "      <td>0</td>\n",
              "      <td>166</td>\n",
              "      <td>0</td>\n",
              "      <td>1.2</td>\n",
              "      <td>1</td>\n",
              "      <td>0.0</td>\n",
              "      <td>3.0</td>\n",
              "      <td>0</td>\n",
              "      <td>0</td>\n",
              "      <td>no</td>\n",
              "    </tr>\n",
              "    <tr>\n",
              "      <th>298</th>\n",
              "      <td>45</td>\n",
              "      <td>male</td>\n",
              "      <td>1</td>\n",
              "      <td>110</td>\n",
              "      <td>264</td>\n",
              "      <td>0</td>\n",
              "      <td>0</td>\n",
              "      <td>132</td>\n",
              "      <td>0</td>\n",
              "      <td>1.2</td>\n",
              "      <td>2</td>\n",
              "      <td>0.0</td>\n",
              "      <td>7.0</td>\n",
              "      <td>1</td>\n",
              "      <td>0</td>\n",
              "      <td>yes</td>\n",
              "    </tr>\n",
              "  </tbody>\n",
              "</table>\n",
              "<p>127 rows × 16 columns</p>\n",
              "</div>\n",
              "    <div class=\"colab-df-buttons\">\n",
              "\n",
              "  <div class=\"colab-df-container\">\n",
              "    <button class=\"colab-df-convert\" onclick=\"convertToInteractive('df-6b6e0da2-6ef2-462b-b106-f482b88870ca')\"\n",
              "            title=\"Convert this dataframe to an interactive table.\"\n",
              "            style=\"display:none;\">\n",
              "\n",
              "  <svg xmlns=\"http://www.w3.org/2000/svg\" height=\"24px\" viewBox=\"0 -960 960 960\">\n",
              "    <path d=\"M120-120v-720h720v720H120Zm60-500h600v-160H180v160Zm220 220h160v-160H400v160Zm0 220h160v-160H400v160ZM180-400h160v-160H180v160Zm440 0h160v-160H620v160ZM180-180h160v-160H180v160Zm440 0h160v-160H620v160Z\"/>\n",
              "  </svg>\n",
              "    </button>\n",
              "\n",
              "  <style>\n",
              "    .colab-df-container {\n",
              "      display:flex;\n",
              "      gap: 12px;\n",
              "    }\n",
              "\n",
              "    .colab-df-convert {\n",
              "      background-color: #E8F0FE;\n",
              "      border: none;\n",
              "      border-radius: 50%;\n",
              "      cursor: pointer;\n",
              "      display: none;\n",
              "      fill: #1967D2;\n",
              "      height: 32px;\n",
              "      padding: 0 0 0 0;\n",
              "      width: 32px;\n",
              "    }\n",
              "\n",
              "    .colab-df-convert:hover {\n",
              "      background-color: #E2EBFA;\n",
              "      box-shadow: 0px 1px 2px rgba(60, 64, 67, 0.3), 0px 1px 3px 1px rgba(60, 64, 67, 0.15);\n",
              "      fill: #174EA6;\n",
              "    }\n",
              "\n",
              "    .colab-df-buttons div {\n",
              "      margin-bottom: 4px;\n",
              "    }\n",
              "\n",
              "    [theme=dark] .colab-df-convert {\n",
              "      background-color: #3B4455;\n",
              "      fill: #D2E3FC;\n",
              "    }\n",
              "\n",
              "    [theme=dark] .colab-df-convert:hover {\n",
              "      background-color: #434B5C;\n",
              "      box-shadow: 0px 1px 3px 1px rgba(0, 0, 0, 0.15);\n",
              "      filter: drop-shadow(0px 1px 2px rgba(0, 0, 0, 0.3));\n",
              "      fill: #FFFFFF;\n",
              "    }\n",
              "  </style>\n",
              "\n",
              "    <script>\n",
              "      const buttonEl =\n",
              "        document.querySelector('#df-6b6e0da2-6ef2-462b-b106-f482b88870ca button.colab-df-convert');\n",
              "      buttonEl.style.display =\n",
              "        google.colab.kernel.accessAllowed ? 'block' : 'none';\n",
              "\n",
              "      async function convertToInteractive(key) {\n",
              "        const element = document.querySelector('#df-6b6e0da2-6ef2-462b-b106-f482b88870ca');\n",
              "        const dataTable =\n",
              "          await google.colab.kernel.invokeFunction('convertToInteractive',\n",
              "                                                    [key], {});\n",
              "        if (!dataTable) return;\n",
              "\n",
              "        const docLinkHtml = 'Like what you see? Visit the ' +\n",
              "          '<a target=\"_blank\" href=https://colab.research.google.com/notebooks/data_table.ipynb>data table notebook</a>'\n",
              "          + ' to learn more about interactive tables.';\n",
              "        element.innerHTML = '';\n",
              "        dataTable['output_type'] = 'display_data';\n",
              "        await google.colab.output.renderOutput(dataTable, element);\n",
              "        const docLink = document.createElement('div');\n",
              "        docLink.innerHTML = docLinkHtml;\n",
              "        element.appendChild(docLink);\n",
              "      }\n",
              "    </script>\n",
              "  </div>\n",
              "\n",
              "\n",
              "    <div id=\"df-3a40216e-ba61-4852-b57a-1df9830df83c\">\n",
              "      <button class=\"colab-df-quickchart\" onclick=\"quickchart('df-3a40216e-ba61-4852-b57a-1df9830df83c')\"\n",
              "                title=\"Suggest charts\"\n",
              "                style=\"display:none;\">\n",
              "\n",
              "<svg xmlns=\"http://www.w3.org/2000/svg\" height=\"24px\"viewBox=\"0 0 24 24\"\n",
              "     width=\"24px\">\n",
              "    <g>\n",
              "        <path d=\"M19 3H5c-1.1 0-2 .9-2 2v14c0 1.1.9 2 2 2h14c1.1 0 2-.9 2-2V5c0-1.1-.9-2-2-2zM9 17H7v-7h2v7zm4 0h-2V7h2v10zm4 0h-2v-4h2v4z\"/>\n",
              "    </g>\n",
              "</svg>\n",
              "      </button>\n",
              "\n",
              "<style>\n",
              "  .colab-df-quickchart {\n",
              "      --bg-color: #E8F0FE;\n",
              "      --fill-color: #1967D2;\n",
              "      --hover-bg-color: #E2EBFA;\n",
              "      --hover-fill-color: #174EA6;\n",
              "      --disabled-fill-color: #AAA;\n",
              "      --disabled-bg-color: #DDD;\n",
              "  }\n",
              "\n",
              "  [theme=dark] .colab-df-quickchart {\n",
              "      --bg-color: #3B4455;\n",
              "      --fill-color: #D2E3FC;\n",
              "      --hover-bg-color: #434B5C;\n",
              "      --hover-fill-color: #FFFFFF;\n",
              "      --disabled-bg-color: #3B4455;\n",
              "      --disabled-fill-color: #666;\n",
              "  }\n",
              "\n",
              "  .colab-df-quickchart {\n",
              "    background-color: var(--bg-color);\n",
              "    border: none;\n",
              "    border-radius: 50%;\n",
              "    cursor: pointer;\n",
              "    display: none;\n",
              "    fill: var(--fill-color);\n",
              "    height: 32px;\n",
              "    padding: 0;\n",
              "    width: 32px;\n",
              "  }\n",
              "\n",
              "  .colab-df-quickchart:hover {\n",
              "    background-color: var(--hover-bg-color);\n",
              "    box-shadow: 0 1px 2px rgba(60, 64, 67, 0.3), 0 1px 3px 1px rgba(60, 64, 67, 0.15);\n",
              "    fill: var(--button-hover-fill-color);\n",
              "  }\n",
              "\n",
              "  .colab-df-quickchart-complete:disabled,\n",
              "  .colab-df-quickchart-complete:disabled:hover {\n",
              "    background-color: var(--disabled-bg-color);\n",
              "    fill: var(--disabled-fill-color);\n",
              "    box-shadow: none;\n",
              "  }\n",
              "\n",
              "  .colab-df-spinner {\n",
              "    border: 2px solid var(--fill-color);\n",
              "    border-color: transparent;\n",
              "    border-bottom-color: var(--fill-color);\n",
              "    animation:\n",
              "      spin 1s steps(1) infinite;\n",
              "  }\n",
              "\n",
              "  @keyframes spin {\n",
              "    0% {\n",
              "      border-color: transparent;\n",
              "      border-bottom-color: var(--fill-color);\n",
              "      border-left-color: var(--fill-color);\n",
              "    }\n",
              "    20% {\n",
              "      border-color: transparent;\n",
              "      border-left-color: var(--fill-color);\n",
              "      border-top-color: var(--fill-color);\n",
              "    }\n",
              "    30% {\n",
              "      border-color: transparent;\n",
              "      border-left-color: var(--fill-color);\n",
              "      border-top-color: var(--fill-color);\n",
              "      border-right-color: var(--fill-color);\n",
              "    }\n",
              "    40% {\n",
              "      border-color: transparent;\n",
              "      border-right-color: var(--fill-color);\n",
              "      border-top-color: var(--fill-color);\n",
              "    }\n",
              "    60% {\n",
              "      border-color: transparent;\n",
              "      border-right-color: var(--fill-color);\n",
              "    }\n",
              "    80% {\n",
              "      border-color: transparent;\n",
              "      border-right-color: var(--fill-color);\n",
              "      border-bottom-color: var(--fill-color);\n",
              "    }\n",
              "    90% {\n",
              "      border-color: transparent;\n",
              "      border-bottom-color: var(--fill-color);\n",
              "    }\n",
              "  }\n",
              "</style>\n",
              "\n",
              "      <script>\n",
              "        async function quickchart(key) {\n",
              "          const quickchartButtonEl =\n",
              "            document.querySelector('#' + key + ' button');\n",
              "          quickchartButtonEl.disabled = true;  // To prevent multiple clicks.\n",
              "          quickchartButtonEl.classList.add('colab-df-spinner');\n",
              "          try {\n",
              "            const charts = await google.colab.kernel.invokeFunction(\n",
              "                'suggestCharts', [key], {});\n",
              "          } catch (error) {\n",
              "            console.error('Error during call to suggestCharts:', error);\n",
              "          }\n",
              "          quickchartButtonEl.classList.remove('colab-df-spinner');\n",
              "          quickchartButtonEl.classList.add('colab-df-quickchart-complete');\n",
              "        }\n",
              "        (() => {\n",
              "          let quickchartButtonEl =\n",
              "            document.querySelector('#df-3a40216e-ba61-4852-b57a-1df9830df83c button');\n",
              "          quickchartButtonEl.style.display =\n",
              "            google.colab.kernel.accessAllowed ? 'block' : 'none';\n",
              "        })();\n",
              "      </script>\n",
              "    </div>\n",
              "\n",
              "    </div>\n",
              "  </div>\n"
            ],
            "application/vnd.google.colaboratory.intrinsic+json": {
              "type": "dataframe",
              "summary": "{\n  \"name\": \"d_hd\",\n  \"rows\": 127,\n  \"fields\": [\n    {\n      \"column\": \"age\",\n      \"properties\": {\n        \"dtype\": \"number\",\n        \"std\": 8,\n        \"min\": 35,\n        \"max\": 77,\n        \"num_unique_values\": 35,\n        \"samples\": [\n          42,\n          65,\n          45\n        ],\n        \"semantic_type\": \"\",\n        \"description\": \"\"\n      }\n    },\n    {\n      \"column\": \"gender\",\n      \"properties\": {\n        \"dtype\": \"category\",\n        \"num_unique_values\": 2,\n        \"samples\": [\n          \"female\",\n          \"male\"\n        ],\n        \"semantic_type\": \"\",\n        \"description\": \"\"\n      }\n    },\n    {\n      \"column\": \"chest_pain\",\n      \"properties\": {\n        \"dtype\": \"number\",\n        \"std\": 0,\n        \"min\": 1,\n        \"max\": 4,\n        \"num_unique_values\": 4,\n        \"samples\": [\n          2,\n          1\n        ],\n        \"semantic_type\": \"\",\n        \"description\": \"\"\n      }\n    },\n    {\n      \"column\": \"resting_blood_pressure\",\n      \"properties\": {\n        \"dtype\": \"number\",\n        \"std\": 18,\n        \"min\": 100,\n        \"max\": 200,\n        \"num_unique_values\": 36,\n        \"samples\": [\n          114,\n          180\n        ],\n        \"semantic_type\": \"\",\n        \"description\": \"\"\n      }\n    },\n    {\n      \"column\": \"serum_cholestoral\",\n      \"properties\": {\n        \"dtype\": \"number\",\n        \"std\": 41,\n        \"min\": 252,\n        \"max\": 564,\n        \"num_unique_values\": 71,\n        \"samples\": [\n          304,\n          286\n        ],\n        \"semantic_type\": \"\",\n        \"description\": \"\"\n      }\n    },\n    {\n      \"column\": \"fasting_blood_sugar\",\n      \"properties\": {\n        \"dtype\": \"number\",\n        \"std\": 0,\n        \"min\": 0,\n        \"max\": 1,\n        \"num_unique_values\": 2,\n        \"samples\": [\n          1,\n          0\n        ],\n        \"semantic_type\": \"\",\n        \"description\": \"\"\n      }\n    },\n    {\n      \"column\": \"resting_electro\",\n      \"properties\": {\n        \"dtype\": \"number\",\n        \"std\": 0,\n        \"min\": 0,\n        \"max\": 2,\n        \"num_unique_values\": 3,\n        \"samples\": [\n          2,\n          0\n        ],\n        \"semantic_type\": \"\",\n        \"description\": \"\"\n      }\n    },\n    {\n      \"column\": \"max_heart_rate\",\n      \"properties\": {\n        \"dtype\": \"number\",\n        \"std\": 22,\n        \"min\": 88,\n        \"max\": 195,\n        \"num_unique_values\": 66,\n        \"samples\": [\n          125,\n          105\n        ],\n        \"semantic_type\": \"\",\n        \"description\": \"\"\n      }\n    },\n    {\n      \"column\": \"exer_angina\",\n      \"properties\": {\n        \"dtype\": \"number\",\n        \"std\": 0,\n        \"min\": 0,\n        \"max\": 1,\n        \"num_unique_values\": 2,\n        \"samples\": [\n          0,\n          1\n        ],\n        \"semantic_type\": \"\",\n        \"description\": \"\"\n      }\n    },\n    {\n      \"column\": \"oldpeak\",\n      \"properties\": {\n        \"dtype\": \"number\",\n        \"std\": 1.1711622634669712,\n        \"min\": 0.0,\n        \"max\": 4.4,\n        \"num_unique_values\": 29,\n        \"samples\": [\n          0.3,\n          1.6\n        ],\n        \"semantic_type\": \"\",\n        \"description\": \"\"\n      }\n    },\n    {\n      \"column\": \"slope\",\n      \"properties\": {\n        \"dtype\": \"number\",\n        \"std\": 0,\n        \"min\": 1,\n        \"max\": 3,\n        \"num_unique_values\": 3,\n        \"samples\": [\n          2,\n          3\n        ],\n        \"semantic_type\": \"\",\n        \"description\": \"\"\n      }\n    },\n    {\n      \"column\": \"num_vessels_flour\",\n      \"properties\": {\n        \"dtype\": \"number\",\n        \"std\": 0.9901401177704074,\n        \"min\": 0.0,\n        \"max\": 3.0,\n        \"num_unique_values\": 4,\n        \"samples\": [\n          2.0,\n          1.0\n        ],\n        \"semantic_type\": \"\",\n        \"description\": \"\"\n      }\n    },\n    {\n      \"column\": \"thal\",\n      \"properties\": {\n        \"dtype\": \"number\",\n        \"std\": 1.9789543874080504,\n        \"min\": 3.0,\n        \"max\": 7.0,\n        \"num_unique_values\": 3,\n        \"samples\": [\n          3.0,\n          7.0\n        ],\n        \"semantic_type\": \"\",\n        \"description\": \"\"\n      }\n    },\n    {\n      \"column\": \"heart_disease_severity\",\n      \"properties\": {\n        \"dtype\": \"number\",\n        \"std\": 1,\n        \"min\": 0,\n        \"max\": 4,\n        \"num_unique_values\": 5,\n        \"samples\": [\n          3,\n          4\n        ],\n        \"semantic_type\": \"\",\n        \"description\": \"\"\n      }\n    },\n    {\n      \"column\": \"exter_angina\",\n      \"properties\": {\n        \"dtype\": \"number\",\n        \"std\": 0,\n        \"min\": 0,\n        \"max\": 1,\n        \"num_unique_values\": 2,\n        \"samples\": [\n          0,\n          1\n        ],\n        \"semantic_type\": \"\",\n        \"description\": \"\"\n      }\n    },\n    {\n      \"column\": \"has_heart_disease\",\n      \"properties\": {\n        \"dtype\": \"category\",\n        \"num_unique_values\": 2,\n        \"samples\": [\n          \"no\",\n          \"yes\"\n        ],\n        \"semantic_type\": \"\",\n        \"description\": \"\"\n      }\n    }\n  ]\n}"
            }
          },
          "metadata": {},
          "execution_count": 6
        }
      ]
    },
    {
      "cell_type": "markdown",
      "source": [
        "<H3> Ejercicio 5. Usa la función status() para identificar qué variables tienen valores nulos."
      ],
      "metadata": {
        "id": "Ly7jQQh1WmAY"
      }
    },
    {
      "cell_type": "code",
      "source": [
        "##Ejercicio 5\n",
        "\n",
        "print(\"Número de nulos en cada columna:\")\n",
        "print(d_hd.isnull().sum())"
      ],
      "metadata": {
        "id": "WA5QPspDWsQ7",
        "colab": {
          "base_uri": "https://localhost:8080/"
        },
        "outputId": "ba9da673-972d-4ae2-9373-42451d459531"
      },
      "execution_count": null,
      "outputs": [
        {
          "output_type": "stream",
          "name": "stdout",
          "text": [
            "Número de nulos en cada columna:\n",
            "age                       0\n",
            "gender                    0\n",
            "chest_pain                0\n",
            "resting_blood_pressure    0\n",
            "serum_cholestoral         0\n",
            "fasting_blood_sugar       0\n",
            "resting_electro           0\n",
            "max_heart_rate            0\n",
            "exer_angina               0\n",
            "oldpeak                   0\n",
            "slope                     0\n",
            "num_vessels_flour         4\n",
            "thal                      2\n",
            "heart_disease_severity    0\n",
            "exter_angina              0\n",
            "has_heart_disease         0\n",
            "dtype: int64\n"
          ]
        }
      ]
    },
    {
      "cell_type": "markdown",
      "source": [
        "<H3> Ejercicio 6. Reemplaza los valores nulos de la columna thal por un valor de 999."
      ],
      "metadata": {
        "id": "f3DX62Z-WugE"
      }
    },
    {
      "cell_type": "code",
      "source": [
        "##Ejercicio 6\n",
        "d_hd['thal'] = d_hd['thal'].fillna(999)\n",
        "print(d_hd['thal'].isnull().sum())\n"
      ],
      "metadata": {
        "id": "MVA53ouUWyis",
        "colab": {
          "base_uri": "https://localhost:8080/"
        },
        "outputId": "6500d847-a34d-4517-f410-13716c97e706"
      },
      "execution_count": null,
      "outputs": [
        {
          "output_type": "stream",
          "name": "stdout",
          "text": [
            "0\n"
          ]
        }
      ]
    },
    {
      "cell_type": "markdown",
      "source": [
        "<H3> Ejercicio 7. Filtrar por múltiples condiciones:\n",
        "\n",
        "Utiliza el DataFrame d_hd y filtra para encontrar todos los registros de pacientes que tienen más de 60 años Y un nivel de colesterol (serum_cholestoral) superior a 250."
      ],
      "metadata": {
        "id": "Pg-83XfFW-DH"
      }
    },
    {
      "cell_type": "code",
      "source": [
        "##Ejercicio 7\n",
        "filtro = d_hd[(d_hd['age'] > 60) & (d_hd['serum_cholestoral'] > 250)]\n",
        "print(filtro.head())\n"
      ],
      "metadata": {
        "id": "fUoVpjBZXD3_",
        "colab": {
          "base_uri": "https://localhost:8080/"
        },
        "outputId": "b75fbae1-8fcc-4dd4-da6a-226937f24b6f"
      },
      "execution_count": null,
      "outputs": [
        {
          "output_type": "stream",
          "name": "stdout",
          "text": [
            "    age  gender  chest_pain  resting_blood_pressure  serum_cholestoral  \\\n",
            "1    67    male           4                     160                286   \n",
            "6    62  female           4                     140                268   \n",
            "8    63    male           4                     130                254   \n",
            "32   64    male           3                     140                335   \n",
            "42   71  female           2                     160                302   \n",
            "\n",
            "    fasting_blood_sugar  resting_electro  max_heart_rate  exer_angina  \\\n",
            "1                     0                2             108            1   \n",
            "6                     0                2             160            0   \n",
            "8                     0                2             147            0   \n",
            "32                    0                0             158            0   \n",
            "42                    0                0             162            0   \n",
            "\n",
            "    oldpeak  slope  num_vessels_flour  thal  heart_disease_severity  \\\n",
            "1       1.5      2                3.0   3.0                       2   \n",
            "6       3.6      3                2.0   3.0                       3   \n",
            "8       1.4      2                1.0   7.0                       2   \n",
            "32      0.0      1                0.0   3.0                       1   \n",
            "42      0.4      1                2.0   3.0                       0   \n",
            "\n",
            "    exter_angina has_heart_disease  \n",
            "1              1               yes  \n",
            "6              0               yes  \n",
            "8              0               yes  \n",
            "32             0               yes  \n",
            "42             0                no  \n"
          ]
        }
      ]
    },
    {
      "cell_type": "markdown",
      "source": [
        "<H3> Ejercicio 8. Reemplazar valores en una columna:\n",
        "\n",
        "Selecciona la columna slope del DataFrame d_hd. Reemplaza el valor 1 por el string 'ascendente' y el valor 2 por 'descendente'. Muestra el resultado (no necesitas guardarlo en el DataFrame original)."
      ],
      "metadata": {
        "id": "9Edfa2btXH8Y"
      }
    },
    {
      "cell_type": "code",
      "source": [
        "##Ejercicio 8\n",
        "nuevacolumna = d_hd['slope'].replace({1: 'ascendente', 2: 'descendente'})\n",
        "print(nuevacolumna)\n"
      ],
      "metadata": {
        "id": "FqPfD1sDXRj7",
        "colab": {
          "base_uri": "https://localhost:8080/"
        },
        "outputId": "38bb3c1f-279f-45d1-a6d0-805ee70c3768"
      },
      "execution_count": null,
      "outputs": [
        {
          "output_type": "stream",
          "name": "stdout",
          "text": [
            "0                3\n",
            "1      descendente\n",
            "2      descendente\n",
            "3                3\n",
            "4       ascendente\n",
            "          ...     \n",
            "298    descendente\n",
            "299    descendente\n",
            "300    descendente\n",
            "301    descendente\n",
            "302     ascendente\n",
            "Name: slope, Length: 303, dtype: object\n"
          ]
        }
      ]
    },
    {
      "cell_type": "markdown",
      "source": [
        "<H3>Ejercicio 9. Crear una nueva columna:\n",
        "\n",
        "En el DataFrame d_hd, crea una nueva columna llamada is_healthy. Asigna el valor True si el paciente no tiene enfermedad del corazón (es decir, el valor en heart_disease_severity es 0) y False en caso contrario. Muestra el DataFrame con la nueva columna"
      ],
      "metadata": {
        "id": "PONHyXr4XXyX"
      }
    },
    {
      "cell_type": "code",
      "source": [
        "##Ejercicio 9\n",
        "d_hd['is_healthy'] = d_hd['heart_disease_severity'] == 0\n",
        "print(d_hd)"
      ],
      "metadata": {
        "id": "LP9l6CLvZWPJ",
        "colab": {
          "base_uri": "https://localhost:8080/"
        },
        "outputId": "358a156b-b894-4c84-e20c-0ea267d70de2"
      },
      "execution_count": null,
      "outputs": [
        {
          "output_type": "stream",
          "name": "stdout",
          "text": [
            "     age  gender  chest_pain  resting_blood_pressure  serum_cholestoral  \\\n",
            "0     63    male           1                     145                233   \n",
            "1     67    male           4                     160                286   \n",
            "2     67    male           4                     120                229   \n",
            "3     37    male           3                     130                250   \n",
            "4     41  female           2                     130                204   \n",
            "..   ...     ...         ...                     ...                ...   \n",
            "298   45    male           1                     110                264   \n",
            "299   68    male           4                     144                193   \n",
            "300   57    male           4                     130                131   \n",
            "301   57  female           2                     130                236   \n",
            "302   38    male           3                     138                175   \n",
            "\n",
            "     fasting_blood_sugar  resting_electro  max_heart_rate  exer_angina  \\\n",
            "0                      1                2             150            0   \n",
            "1                      0                2             108            1   \n",
            "2                      0                2             129            1   \n",
            "3                      0                0             187            0   \n",
            "4                      0                2             172            0   \n",
            "..                   ...              ...             ...          ...   \n",
            "298                    0                0             132            0   \n",
            "299                    1                0             141            0   \n",
            "300                    0                0             115            1   \n",
            "301                    0                2             174            0   \n",
            "302                    0                0             173            0   \n",
            "\n",
            "     oldpeak  slope  num_vessels_flour  thal  heart_disease_severity  \\\n",
            "0        2.3      3                0.0   6.0                       0   \n",
            "1        1.5      2                3.0   3.0                       2   \n",
            "2        2.6      2                2.0   7.0                       1   \n",
            "3        3.5      3                0.0   3.0                       0   \n",
            "4        1.4      1                0.0   3.0                       0   \n",
            "..       ...    ...                ...   ...                     ...   \n",
            "298      1.2      2                0.0   7.0                       1   \n",
            "299      3.4      2                2.0   7.0                       2   \n",
            "300      1.2      2                1.0   7.0                       3   \n",
            "301      0.0      2                1.0   3.0                       1   \n",
            "302      0.0      1                NaN   3.0                       0   \n",
            "\n",
            "     exter_angina has_heart_disease  is_healthy  \n",
            "0               0                no        True  \n",
            "1               1               yes       False  \n",
            "2               1               yes       False  \n",
            "3               0                no        True  \n",
            "4               0                no        True  \n",
            "..            ...               ...         ...  \n",
            "298             0               yes       False  \n",
            "299             0               yes       False  \n",
            "300             1               yes       False  \n",
            "301             0               yes       False  \n",
            "302             0                no        True  \n",
            "\n",
            "[303 rows x 17 columns]\n"
          ]
        }
      ]
    },
    {
      "cell_type": "markdown",
      "source": [
        "<H3> Ejercicio 10. Eliminar registros con nulos:\n",
        "\n",
        "Crea una copia del DataFrame d_hd llamada d_hd_clean. Usa el método dropna() para eliminar todos los registros que contengan al menos un valor nulo. Luego, usa status() para verificar que ya no hay valores nulos en d_hd_clean."
      ],
      "metadata": {
        "id": "9LvQmbCjZZBR"
      }
    },
    {
      "cell_type": "code",
      "source": [
        "##Ejercicio 10\n",
        "d_hd_clean = d_hd.dropna()\n",
        "print(\"Valores nulos en d_hd_clean:\")\n",
        "print(d_hd_clean.isnull().sum())"
      ],
      "metadata": {
        "id": "foMwU5cDZtdu",
        "colab": {
          "base_uri": "https://localhost:8080/"
        },
        "outputId": "f0385401-3b26-42f2-9c93-7ef67ed22f25"
      },
      "execution_count": null,
      "outputs": [
        {
          "output_type": "stream",
          "name": "stdout",
          "text": [
            "Valores nulos en d_hd_clean:\n",
            "age                       0\n",
            "gender                    0\n",
            "chest_pain                0\n",
            "resting_blood_pressure    0\n",
            "serum_cholestoral         0\n",
            "fasting_blood_sugar       0\n",
            "resting_electro           0\n",
            "max_heart_rate            0\n",
            "exer_angina               0\n",
            "oldpeak                   0\n",
            "slope                     0\n",
            "num_vessels_flour         0\n",
            "thal                      0\n",
            "heart_disease_severity    0\n",
            "exter_angina              0\n",
            "has_heart_disease         0\n",
            "is_healthy                0\n",
            "dtype: int64\n"
          ]
        }
      ]
    },
    {
      "cell_type": "markdown",
      "source": [
        "************************************************************************************"
      ],
      "metadata": {
        "id": "ThtjqK_9ZyRt"
      }
    }
  ]
}
